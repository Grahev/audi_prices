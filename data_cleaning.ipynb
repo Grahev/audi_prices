{
 "cells": [
  {
   "cell_type": "code",
   "execution_count": 1,
   "metadata": {},
   "outputs": [],
   "source": [
    "import pandas as pd\n",
    "import pyodbc\n",
    "from secret import user_name"
   ]
  },
  {
   "cell_type": "code",
   "execution_count": 2,
   "metadata": {},
   "outputs": [],
   "source": [
    "#db connect\n",
    "server_name = 'DESKTOP-5CNJJCA\\SQLEXPRESS'\n",
    "\n",
    "user_name = user_name\n",
    "\n",
    "conn = pyodbc.connect('Driver={SQL Server};'\n",
    "                      'Server=DESKTOP-5CNJJCA\\SQLEXPRESS;'\n",
    "                      'Database=First_Database;'\n",
    "                      'Trusted_Connection=yes;')\n",
    "\n",
    "cursor = conn.cursor()"
   ]
  },
  {
   "cell_type": "code",
   "execution_count": 3,
   "metadata": {},
   "outputs": [
    {
     "name": "stderr",
     "output_type": "stream",
     "text": [
      "h:\\Python project\\BS4 scrapers\\Scrape class\\venv\\lib\\site-packages\\pandas\\io\\sql.py:761: UserWarning: pandas only support SQLAlchemy connectable(engine/connection) ordatabase string URI or sqlite3 DBAPI2 connectionother DBAPI2 objects are not tested, please consider using SQLAlchemy\n",
      "  warnings.warn(\n"
     ]
    },
    {
     "name": "stdout",
     "output_type": "stream",
     "text": [
      "                                                title  year   price  milage  \\\n",
      "0                        Audi A3 1.9  TDI  Sport  2dr  2008  3850.0  105000   \n",
      "1                Audi A5 1.8T  FSI  160  S  Line  2dr  2009  3995.0  132000   \n",
      "2                          Audi TT 1.8  T  2dr  [163]  2006  3995.0   65000   \n",
      "3                       Audi A3 1.9  TDIe  Sport  5dr  2009  3995.0  109452   \n",
      "4                 Audi A4 2.0  TDi  170  S  Line  5dr  2007  3995.0  117000   \n",
      "5                 Audi A6 2.0  TDI  TDV  S  Line  4dr  2008  3995.0  114000   \n",
      "6    Audi A6 2.0  TDI  170  S  Line  Special  Ed  4dr  2010  4195.0  159000   \n",
      "7                          A6 2.0  TDIe  S  Line  4dr  2009  4250.0  149000   \n",
      "8   Audi A4 2.0  TDI  170  S  Line  4dr  [Start  S...  2009  4250.0  158000   \n",
      "9                       Audi A3 1.9  TDIe  Sport  3dr  2009  4250.0  145166   \n",
      "10       Audi A3 1.4  TFSI  Sport  5dr  [Start  Stop]  2012  4400.0  120000   \n",
      "11                Audi A4 2.0  TDI  143  S  Line  4dr  2009  4400.0  157000   \n",
      "12                     Audi A4 2.0  TDi  S  Line  2dr  2008  4450.0   91000   \n",
      "13  Audi A4 2.0  TDI  170  Black  Edition  4dr  [S...  2011  4450.0  178000   \n",
      "14                         Audi A6 2.0  TDIe  SE  4dr  2009  4495.0  119000   \n",
      "15                       Audi A3 1.6  TDI  Sport  5dr  2012  4495.0  102318   \n",
      "16                          Audi A3 1.6  TDI  SE  5dr  2010  4495.0  105000   \n",
      "17                     Audi A5 2.0  TDI  S  Line  5dr  2010  4500.0  179000   \n",
      "18                 A5 2.0  TDI  Quattro  S  Line  5dr  2011  4750.0       0   \n",
      "19  Audi A4 2.0  TDI  136  Black  Edition  4dr  [S...  2011  4795.0  160000   \n",
      "20                                                 A5  2010  4800.0  164000   \n",
      "21               Audi A6 2.0  TDI  170  Le  Mans  5dr  2010  4800.0  106000   \n",
      "22  Audi A4 2.0  TDI  136  Technik  4dr  [Start  S...  2012  4895.0  170000   \n",
      "23     Audi A5 2.0T  FSI  S  Line  2dr  [Start  Stop]  2010  4950.0   98000   \n",
      "24                     Audi A4 2.0  TDI  143  SE  5dr  2010  4950.0  119000   \n",
      "25  Audi A4 2.0  TDI  Quattro  170  S  Line  Speci...  2010  4995.0  139200   \n",
      "\n",
      "      transmission     fuel_type   body_style  engine_size  doors  \\\n",
      "0   Manual 5 speed        Diesel  Convertible          1.9      2   \n",
      "1   Manual 6 speed        Petrol        Coupe          1.8      2   \n",
      "2           Manual        Petrol  Convertible          1.8      2   \n",
      "3           Manual        DIESEL    Hatchback          1.9      5   \n",
      "4           Manual        Diesel       Estate          2.0      5   \n",
      "5           Manual        Diesel       Saloon          2.0      4   \n",
      "6           Manual        Diesel       Saloon          2.0      4   \n",
      "7           Manual        Diesel       Saloon          2.0      4   \n",
      "8           Manual        Diesel       Saloon          2.0      4   \n",
      "9           Manual        Diesel    Hatchback          1.9      3   \n",
      "10          Manual        Petrol    Hatchback          1.4      5   \n",
      "11          Manual        Diesel       Saloon          2.0      4   \n",
      "12          Manual        Diesel  Convertible          2.0      2   \n",
      "13          Manual        Diesel       Saloon          2.0      4   \n",
      "14  Manual 6 speed        Diesel       Saloon          2.0      4   \n",
      "15          Manual        Diesel    Hatchback          1.6      5   \n",
      "16          Manual        Diesel    Hatchback          1.6      5   \n",
      "17          Manual        Diesel    Hatchback          2.0      5   \n",
      "18  Manual 6 speed  Turbo Diesel    Hatchback          2.0      5   \n",
      "19          Manual        Diesel       Saloon          2.0      4   \n",
      "20          Manual        Diesel    Hatchback          2.0      4   \n",
      "21          Manual        Diesel       Estate          2.0      5   \n",
      "22          Manual        Diesel       Saloon          2.0      4   \n",
      "23          Manual        PETROL  Convertible          2.0      2   \n",
      "24          Manual        Diesel       Estate          2.0      5   \n",
      "25          Manual        Diesel       Saloon          2.0      4   \n",
      "\n",
      "                location         id  \\\n",
      "0             Ballymoney  310992852   \n",
      "1              Coleraine  301869183   \n",
      "2              Portadown  307070616   \n",
      "3                 Armagh  310274987   \n",
      "4              Portadown  310652692   \n",
      "5          County tyrone  311158044   \n",
      "6                  Newry  310991775   \n",
      "7               Strabane  311096454   \n",
      "8                  Derry  311495411   \n",
      "9                  Newry  311588025   \n",
      "10                 Coagh  306635990   \n",
      "11             Rasharkin  310993031   \n",
      "12           Londonderry  302481557   \n",
      "13              Strabane  309955635   \n",
      "14               Crumlin  305993769   \n",
      "15  Armagh and banbridge  309177864   \n",
      "16             Portadown  311280958   \n",
      "17        Newtownstewart  310999627   \n",
      "18                Claudy  311665102   \n",
      "19               Lisburn  310130136   \n",
      "20         Newtownbutler  306540853   \n",
      "21                 Derry  310263055   \n",
      "22                 Newry  311482816   \n",
      "23                   Moy  307936964   \n",
      "24            Ballyclare  309120950   \n",
      "25            Ballyclare  309023609   \n",
      "\n",
      "                                                 link   timestamp  \n",
      "0   https://www.usedcarsni.com/2008-Audi-A3-1-9-TD...  2022-12-04  \n",
      "1   https://www.usedcarsni.com/2009-Audi-A5-1-8T-F...  2022-12-04  \n",
      "2   https://www.usedcarsni.com/2006-Audi-TT-1-8-T-...  2022-12-04  \n",
      "3   https://www.usedcarsni.com/2009-Audi-A3-1-9-TD...  2022-12-04  \n",
      "4   https://www.usedcarsni.com/2007-Audi-A4-2-0-TD...  2022-12-04  \n",
      "5   https://www.usedcarsni.com/2008-Audi-A6-2-0-TD...  2022-12-04  \n",
      "6   https://www.usedcarsni.com/2010-Audi-A6-2-0-TD...  2022-12-04  \n",
      "7   https://www.usedcarsni.com/2009-Audi-A6-2-0-TD...  2022-12-04  \n",
      "8   https://www.usedcarsni.com/2009-Audi-A4-2-0-TD...  2022-12-04  \n",
      "9   https://www.usedcarsni.com/2009-Audi-A3-1-9-TD...  2022-12-04  \n",
      "10  https://www.usedcarsni.com/2012-Audi-A3-1-4-TF...  2022-12-04  \n",
      "11  https://www.usedcarsni.com/2009-Audi-A4-2-0-TD...  2022-12-04  \n",
      "12  https://www.usedcarsni.com/2008-Audi-A4-2-0-TD...  2022-12-04  \n",
      "13  https://www.usedcarsni.com/2011-Audi-A4-2-0-TD...  2022-12-04  \n",
      "14  https://www.usedcarsni.com/2009-Audi-A6-2-0-TD...  2022-12-04  \n",
      "15  https://www.usedcarsni.com/2012-Audi-A3-1-6-TD...  2022-12-04  \n",
      "16  https://www.usedcarsni.com/2010-Audi-A3-1-6-TD...  2022-12-04  \n",
      "17  https://www.usedcarsni.com/2010-Audi-A5-2-0-TD...  2022-12-04  \n",
      "18  https://www.usedcarsni.com/2011-Audi-A5-2-0-TD...  2022-12-04  \n",
      "19  https://www.usedcarsni.com/2011-Audi-A4-2-0-TD...  2022-12-04  \n",
      "20  https://www.usedcarsni.com/2010-Audi-A5-306540853  2022-12-04  \n",
      "21  https://www.usedcarsni.com/2010-Audi-A6-2-0-TD...  2022-12-04  \n",
      "22  https://www.usedcarsni.com/2012-Audi-A4-2-0-TD...  2022-12-04  \n",
      "23  https://www.usedcarsni.com/2010-Audi-A5-2-0T-F...  2022-12-04  \n",
      "24  https://www.usedcarsni.com/2010-Audi-A4-2-0-TD...  2022-12-04  \n",
      "25  https://www.usedcarsni.com/2010-Audi-A4-2-0-TD...  2022-12-04  \n"
     ]
    }
   ],
   "source": [
    "cursor = conn.cursor()\n",
    "# select 26 rows from SQL table to insert in dataframe.\n",
    "query = \"SELECT * FROM cars;\"\n",
    "df = pd.read_sql(query, conn)\n",
    "print(df.head(26))"
   ]
  },
  {
   "cell_type": "code",
   "execution_count": 4,
   "metadata": {},
   "outputs": [],
   "source": [
    "df['make'] = 'Audi'\n",
    "df['model'] = ''"
   ]
  },
  {
   "cell_type": "code",
   "execution_count": 5,
   "metadata": {},
   "outputs": [
    {
     "name": "stdout",
     "output_type": "stream",
     "text": [
      "<class 'pandas.core.frame.DataFrame'>\n",
      "Int64Index: 11127 entries, 27 to 116959\n",
      "Data columns (total 15 columns):\n",
      " #   Column        Non-Null Count  Dtype  \n",
      "---  ------        --------------  -----  \n",
      " 0   title         11127 non-null  object \n",
      " 1   year          11127 non-null  int64  \n",
      " 2   price         11127 non-null  float64\n",
      " 3   milage        11127 non-null  int64  \n",
      " 4   transmission  11127 non-null  object \n",
      " 5   fuel_type     11127 non-null  object \n",
      " 6   body_style    11127 non-null  object \n",
      " 7   engine_size   11127 non-null  float64\n",
      " 8   doors         11127 non-null  int64  \n",
      " 9   location      11127 non-null  object \n",
      " 10  id            11127 non-null  object \n",
      " 11  link          11127 non-null  object \n",
      " 12  timestamp     11127 non-null  object \n",
      " 13  make          11127 non-null  object \n",
      " 14  model         11127 non-null  object \n",
      "dtypes: float64(2), int64(3), object(10)\n",
      "memory usage: 956.2+ KB\n"
     ]
    }
   ],
   "source": [
    "df.drop_duplicates(inplace=True, subset=['id'], keep='last')\n",
    "df = df[df['price'] !=0]\n",
    "df.info()"
   ]
  },
  {
   "cell_type": "code",
   "execution_count": 6,
   "metadata": {},
   "outputs": [
    {
     "name": "stdout",
     "output_type": "stream",
     "text": [
      "A1 done\n",
      "A2 done\n",
      "A3 done\n",
      "A4 done\n",
      "A5 done\n",
      "A6 done\n",
      "A7 done\n",
      "A8 done\n",
      "TT done\n",
      "Q2 done\n",
      "Q3 done\n",
      "Q4 done\n",
      "Q5 done\n",
      "Q6 done\n",
      "Q7 done\n",
      "Q8 done\n",
      "S3 done\n",
      "S4 done\n",
      "RS3 done\n",
      "RS4 done\n",
      "RS5 done\n",
      "RS6 done\n",
      "RS7 done\n",
      "R8 done\n",
      "E-Tron done\n"
     ]
    }
   ],
   "source": [
    "models = ['A1', 'A2', 'A3', 'A4', 'A5', 'A6', 'A7', 'A8', 'TT', 'Q2', 'Q3', 'Q4','Q5','Q6', 'Q7', 'Q8','S3','S4','RS3','RS4','RS5','RS6','RS7','R8','E-Tron']\n",
    "\n",
    "def add_model(model):\n",
    "    a6 = df['title'].str.contains(model)\n",
    "    df.loc[a6,'model'] = model\n",
    "    print(f'{model} done')\n",
    "\n",
    "for model in models:\n",
    "    add_model(model)\n"
   ]
  },
  {
   "cell_type": "code",
   "execution_count": 7,
   "metadata": {},
   "outputs": [
    {
     "name": "stdout",
     "output_type": "stream",
     "text": [
      "<class 'pandas.core.frame.DataFrame'>\n",
      "Int64Index: 11082 entries, 27 to 116959\n",
      "Data columns (total 15 columns):\n",
      " #   Column        Non-Null Count  Dtype  \n",
      "---  ------        --------------  -----  \n",
      " 0   title         11082 non-null  object \n",
      " 1   year          11082 non-null  int64  \n",
      " 2   price         11082 non-null  float64\n",
      " 3   milage        11082 non-null  int64  \n",
      " 4   transmission  11082 non-null  object \n",
      " 5   fuel_type     11082 non-null  object \n",
      " 6   body_style    11082 non-null  object \n",
      " 7   engine_size   11082 non-null  float64\n",
      " 8   doors         11082 non-null  int64  \n",
      " 9   location      11082 non-null  object \n",
      " 10  id            11082 non-null  object \n",
      " 11  link          11082 non-null  object \n",
      " 12  timestamp     11082 non-null  object \n",
      " 13  make          11082 non-null  object \n",
      " 14  model         11082 non-null  object \n",
      "dtypes: float64(2), int64(3), object(10)\n",
      "memory usage: 952.4+ KB\n"
     ]
    }
   ],
   "source": [
    "new = df[df['price'] != 0 ]\n",
    "new = new[df['milage'] != 0]\n",
    "new.info()"
   ]
  },
  {
   "cell_type": "code",
   "execution_count": 8,
   "metadata": {},
   "outputs": [],
   "source": [
    "new.to_csv('models.csv')"
   ]
  },
  {
   "cell_type": "code",
   "execution_count": 10,
   "metadata": {},
   "outputs": [],
   "source": [
    "drop = \"DROP TABLE cars_clean\"\n",
    "cursor.execute(drop)\n",
    "cursor.commit()\n",
    "\n",
    "sql = \"\"\"\n",
    "    CREATE TABLE [cars_clean](\n",
    "        title varchar(225), \n",
    "        year int,  \n",
    "        price float,\n",
    "        milage int,  \n",
    "        transmission varchar(50), \n",
    "        fuel_type varchar(50), \n",
    "        body_style varchar(50), \n",
    "        engine_size float,\n",
    "        doors int,  \n",
    "        location varchar(50),\n",
    "        id varchar(50),\n",
    "        link varchar(250),\n",
    "        timestamp date,\n",
    "        make varchar(50),\n",
    "        model varchar(50)\n",
    "    )\n",
    "\"\"\"\n",
    "\n",
    "cursor.execute(sql)\n",
    "cursor.commit()\n",
    "\n"
   ]
  },
  {
   "cell_type": "code",
   "execution_count": 11,
   "metadata": {},
   "outputs": [],
   "source": [
    "# Insert Dataframe into SQL Server:\n",
    "\n",
    "for index, row in df.iterrows():\n",
    "     cursor.execute(\"\"\"INSERT INTO cars_clean (title,year, price,milage,transmission,fuel_type,body_style,engine_size,doors,location,id,link,timestamp,make,model) \n",
    "    values(?,?,?,?,?,?,?,?,?,?,?,?,?,?,?)\n",
    "\"\"\", row.title, row.year, row.price, row.milage,row.transmission,row.fuel_type,row.body_style,row.engine_size,row.doors,row.location,row.id,row.link,row.timestamp,row.make,row.model)\n",
    "conn.commit()\n",
    "cursor.close()"
   ]
  },
  {
   "cell_type": "code",
   "execution_count": 12,
   "metadata": {},
   "outputs": [],
   "source": [
    "conn.close()"
   ]
  },
  {
   "cell_type": "code",
   "execution_count": null,
   "metadata": {},
   "outputs": [],
   "source": []
  }
 ],
 "metadata": {
  "kernelspec": {
   "display_name": "venv",
   "language": "python",
   "name": "python3"
  },
  "language_info": {
   "codemirror_mode": {
    "name": "ipython",
    "version": 3
   },
   "file_extension": ".py",
   "mimetype": "text/x-python",
   "name": "python",
   "nbconvert_exporter": "python",
   "pygments_lexer": "ipython3",
   "version": "3.8.3"
  },
  "orig_nbformat": 4,
  "vscode": {
   "interpreter": {
    "hash": "6609f62d257dd33168efc625621c116586ca504513017b22dc7729cc6a57a397"
   }
  }
 },
 "nbformat": 4,
 "nbformat_minor": 2
}
